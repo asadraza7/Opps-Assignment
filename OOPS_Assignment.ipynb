{
  "nbformat": 4,
  "nbformat_minor": 0,
  "metadata": {
    "colab": {
      "provenance": []
    },
    "kernelspec": {
      "name": "python3",
      "display_name": "Python 3"
    },
    "language_info": {
      "name": "python"
    }
  },
  "cells": [
    {
      "cell_type": "markdown",
      "source": [
        "Q(1)What are the five key concepts of Object-Oriented Programming (OOP)"
      ],
      "metadata": {
        "id": "bWtPiHNKj73B"
      }
    },
    {
      "cell_type": "code",
      "source": [
        "from google.colab import drive\n",
        "drive.mount('/content/drive')"
      ],
      "metadata": {
        "id": "uJkm2bQpLOpn"
      },
      "execution_count": null,
      "outputs": []
    },
    {
      "cell_type": "code",
      "execution_count": null,
      "metadata": {
        "id": "EbLMEZvWiTMY"
      },
      "outputs": [],
      "source": [
        "#Ans:-\n",
        "\n",
        "#The five key concepts of object oriented programming are\n",
        "#(1) Encapsulation\n",
        "#(2) Inheritance\n",
        "#(3) Abstraction\n",
        "#(4) polymorphism\n",
        "#(5) classes/object"
      ]
    },
    {
      "cell_type": "markdown",
      "source": [
        "(2)Write a Python class for a `Car` with attributes for `make`, `model`, and `year`. Include a method to display\n",
        "the car's information."
      ],
      "metadata": {
        "id": "vfacDwA3k_9d"
      }
    },
    {
      "cell_type": "code",
      "source": [
        "#Ans:-\n",
        "\n",
        "class car:\n",
        "    def __init__(self,make,model,year):\n",
        "        self.make=make\n",
        "        self.model=model\n",
        "        self.year=year\n",
        "\n",
        "    def display_info(self):\n",
        "        print(f\"car information:{self.make} {self.model} {self.year}\")"
      ],
      "metadata": {
        "id": "k-Ax2K2Ek9o1"
      },
      "execution_count": null,
      "outputs": []
    },
    {
      "cell_type": "code",
      "source": [
        "my_car=car(\"Toyota\",\"Camry\",\"2020\")\n",
        "my_car.display_info()"
      ],
      "metadata": {
        "id": "PR6DkyCVk9ze",
        "colab": {
          "base_uri": "https://localhost:8080/"
        },
        "outputId": "3b339ed6-3a48-43bf-8633-5d1a8dd5ba19"
      },
      "execution_count": null,
      "outputs": [
        {
          "output_type": "stream",
          "name": "stdout",
          "text": [
            "car information:Toyota Camry 2020\n"
          ]
        }
      ]
    },
    {
      "cell_type": "markdown",
      "source": [
        "Q(3)Explain the difference between instance methods and class methods. Provide an example of each"
      ],
      "metadata": {
        "id": "ISNJrs1hQ4jj"
      }
    },
    {
      "cell_type": "code",
      "source": [
        "#Ans:-\n",
        "#These methods operate on an instance of the class. They can access and modify object-specific data, i.e., instance variables.\n",
        "#Example:-display_info() is an instance method that accesses the instance attributes (make, model, and year).\n",
        "#Class methods operate on the class itself, not on instances of the class. They are bound to the class rather than to an instance\n",
        "#Example:-total_cars() is a class method that operates on the class-level attribute car_count. It’s called on the class itself rather than on an instance of the class."
      ],
      "metadata": {
        "id": "aGbA5GDtk92P"
      },
      "execution_count": null,
      "outputs": []
    },
    {
      "cell_type": "markdown",
      "source": [
        "Q(4)How does Python implement method overloading? Give an example"
      ],
      "metadata": {
        "id": "CDSf1aSn0rbj"
      }
    },
    {
      "cell_type": "code",
      "source": [
        "#Ans:-\n",
        "#If you define multiple methods with\n",
        "#the same name in a class, the last one\n",
        "#defined will override any previous methods with the same name.\n",
        "\n",
        "#Example:-\n",
        "\n",
        "#Class Calculator:\n",
        "    #def add(self,a,b,c):\n",
        "        #return a+b+c\n",
        "\n",
        "    #def add(self,a,b):\n",
        "        #return a+b\n",
        "\n",
        "    #def add(self,a,b,c,d):\n",
        "        #return a+b+c+d"
      ],
      "metadata": {
        "id": "BFoLZAKAk-JB"
      },
      "execution_count": null,
      "outputs": []
    },
    {
      "cell_type": "markdown",
      "source": [
        "Q(5)What are the three types of access modifiers in Python? How are they denoted?"
      ],
      "metadata": {
        "id": "YSMPjxC73O2t"
      }
    },
    {
      "cell_type": "code",
      "source": [
        "\n",
        "#Ans:-\n",
        "#Three types of access modifiers in python are\n",
        "#(1)Public\n",
        "#(2)Private\n",
        "#(3)Protected\n",
        "#In Python, access modifiers are denoted  with a single underscore (_) or double underscore (__):\n",
        "#Protected: A single underscore before the variable name\n",
        "#Private: A double underscore before the variable name"
      ],
      "metadata": {
        "id": "xBy7Lw0-k-L8"
      },
      "execution_count": null,
      "outputs": []
    },
    {
      "cell_type": "markdown",
      "source": [
        "Q(6)Describe the five types of inheritance in Python. Provide a simple example of multiple inheritance."
      ],
      "metadata": {
        "id": "7LSHXH5t4duD"
      }
    },
    {
      "cell_type": "code",
      "source": [
        "#Ans:-\n",
        "The five types of inheritance in python are\n",
        "#(1)Single Inheritance.\n",
        "#(2)Multiple Inheritance.\n",
        "#(3)Multilevel Inheritance.\n",
        "#(4)Hierarchical Inheritance.\n",
        "#(5)Hybrid Inheritance."
      ],
      "metadata": {
        "id": "t6k46cOuk9cx"
      },
      "execution_count": null,
      "outputs": []
    },
    {
      "cell_type": "code",
      "source": [
        "#Example of Single Inheritance\n",
        "#Class father:\n",
        "    #def father_property(self):\n",
        "        #print(\"This is father property\")\n",
        "\n",
        "#Class son(father):\n",
        "    #def job(self):\n",
        "        #print(\"Son has property from job\")"
      ],
      "metadata": {
        "id": "_pf_dooqk9fz"
      },
      "execution_count": null,
      "outputs": []
    },
    {
      "cell_type": "code",
      "source": [
        "#Example of Multiple Inheritance\n",
        "#Class parentclass1:\n",
        "    #def method1(self):\n",
        "        #print(\"Method 1 of parent class\")\n",
        "#Class parentclass2:\n",
        "    #def method2(self):\n",
        "         #print(\"method2 of parent class 2\")\n",
        "#Class childclass(parentclass1,parentclass2):\n",
        "    #def method(self):\n",
        "        #print(\"method of child class\")"
      ],
      "metadata": {
        "id": "w-SDj6737AB7"
      },
      "execution_count": null,
      "outputs": []
    },
    {
      "cell_type": "code",
      "source": [
        "#Example of Multilevel inheritance\n",
        "#Class Grandfather:\n",
        "    #def prop_grand(self):\n",
        "        #print(\"This is grandpa property\")\n",
        "#Class Father(Grandfather):\n",
        "    #def prop_father(self):\n",
        "        #print(\"This is father property along with grandpa property\")\n",
        "#Class son(Father):\n",
        "    #def prop_son(self):\n",
        "        #print(\"I am the king ,I have my property,along  with father's and grandfather property\")"
      ],
      "metadata": {
        "id": "L8yoJlrv7AMp"
      },
      "execution_count": null,
      "outputs": []
    },
    {
      "cell_type": "code",
      "source": [
        "#Example of hierarchical inheritance\n",
        "#Class Vehicle:\n",
        "    #def info(self):\n",
        "        #print(\"This is vehicle\")\n",
        "#Class Car(Vehicle):\n",
        "    #def car_info(self,name):\n",
        "        #print(\"This is car info\",name)\n",
        "#Class Truck(vehicle):\n",
        "    #def truck_info(self,name):\n",
        "        #print(\"Truck info\",name)"
      ],
      "metadata": {
        "id": "1fv-k4nW7ApT"
      },
      "execution_count": null,
      "outputs": []
    },
    {
      "cell_type": "code",
      "source": [
        "#Example of Hybrid inheritance\n",
        "#Class Vehicle:\n",
        "    #def info(self):\n",
        "        #print(\"This is vehicle\")\n",
        "#Class Car(Vehicle):\n",
        "    #def car_info(self,name):\n",
        "        #print(\"This is car info\",name)\n",
        "#Class Truck(vehicle):\n",
        "    #def truck_info(self,name):\n",
        "        #print(\"Truck info\",name)\n",
        "#Class sportscar(car,vehicle):\n",
        "    #def sports_info(self):\n",
        "        #print(\"Inside sports car class\")"
      ],
      "metadata": {
        "id": "a1KpPwKh7AtE"
      },
      "execution_count": null,
      "outputs": []
    },
    {
      "cell_type": "markdown",
      "source": [
        "Q(7)What is the Method Resolution Order (MRO) in Python? How can you retrieve it programmatically?"
      ],
      "metadata": {
        "id": "BkXHgH1T-lfQ"
      }
    },
    {
      "cell_type": "code",
      "source": [
        "#Ans:-\n",
        "#MRO determines the order in which base\n",
        "#classes are searched when executing a method.\n",
        "#It is determined using the C3 linearization algorithm, also known as C3 superclass linearization.\n",
        "#You can view the MRO of a class using the __mro__ attribute or the mro() method.\n",
        "\n",
        "#(1)The __mro__ attribute: ClassName.__mro__\n",
        "#(2)The mro() method: ClassName.mro()"
      ],
      "metadata": {
        "id": "C-Db0ran7Av5"
      },
      "execution_count": null,
      "outputs": []
    },
    {
      "cell_type": "markdown",
      "source": [
        "Q(8)Create an abstract base class `Shape` with an abstract method `area()`. Then create two subclasses\n",
        "`Circle` and `Rectangle` that implement the `area()` method."
      ],
      "metadata": {
        "id": "SVQfrpJI_L8_"
      }
    },
    {
      "cell_type": "code",
      "source": [
        "#Ans:-\n",
        "from abc import ABC, abstractmethod\n",
        "import math\n",
        "\n",
        "# Abstract base class\n",
        "class Shape(ABC):\n",
        "\n",
        "    @abstractmethod\n",
        "    def area(self):\n",
        "        pass\n",
        "\n",
        "# Subclass for Circle\n",
        "class Circle(Shape):\n",
        "    def __init__(self, radius):\n",
        "        self.radius = radius\n",
        "\n",
        "    def area(self):\n",
        "        return math.pi * self.radius ** 2\n",
        "\n",
        "# Subclass for Rectangle\n",
        "class Rectangle(Shape):\n",
        "    def __init__(self, width, height):\n",
        "        self.width = width\n",
        "        self.height = height\n",
        "\n",
        "    def area(self):\n",
        "        return self.width * self.height\n",
        "\n",
        "# Example usage:\n",
        "circle = Circle(5)\n",
        "rectangle = Rectangle(4, 6)\n",
        "\n",
        "print(f\"Area of Circle: {circle.area()}\")\n",
        "print(f\"Area of Rectangle: {rectangle.area()}\")"
      ],
      "metadata": {
        "colab": {
          "base_uri": "https://localhost:8080/"
        },
        "id": "eIVow1xG_Lia",
        "outputId": "bc12133a-cbd2-4f2c-c31c-840ae16e53f6"
      },
      "execution_count": null,
      "outputs": [
        {
          "output_type": "stream",
          "name": "stdout",
          "text": [
            "Area of Circle: 78.53981633974483\n",
            "Area of Rectangle: 24\n"
          ]
        }
      ]
    },
    {
      "cell_type": "markdown",
      "source": [
        "Q(9)Demonstrate polymorphism by creating a function that can work with different shape objects to calculate\n",
        "and print their areas."
      ],
      "metadata": {
        "id": "HLqXncH6_8Y9"
      }
    },
    {
      "cell_type": "code",
      "source": [
        "#Ans:-\n",
        "import math\n",
        "\n",
        "# Base class Shape\n",
        "class Shape:\n",
        "    def area(self):\n",
        "        pass\n",
        "\n",
        "# Subclass Circle\n",
        "class Circle(Shape):\n",
        "    def __init__(self, radius):\n",
        "        self.radius = radius\n",
        "\n",
        "    def area(self):\n",
        "        return math.pi * (self.radius ** 2)\n",
        "\n",
        "# Subclass Rectangle\n",
        "class Rectangle(Shape):\n",
        "    def __init__(self, width, height):\n",
        "        self.width = width\n",
        "        self.height = height\n",
        "\n",
        "    def area(self):\n",
        "        return self.width * self.height\n",
        "\n",
        "# Subclass Triangle\n",
        "class Triangle(Shape):\n",
        "    def __init__(self, base, height):\n",
        "        self.base = base\n",
        "        self.height = height\n",
        "\n",
        "    def area(self):\n",
        "        return 0.5 * self.base * self.height\n",
        "\n",
        "# Function to calculate area using polymorphism\n",
        "def print_area(shape):\n",
        "    print(f\"Area: {shape.area()}\")\n",
        "\n",
        "# Creating objects of different shapes\n",
        "circle = Circle(5)\n",
        "rectangle = Rectangle(4, 6)\n",
        "triangle = Triangle(3, 5)\n",
        "\n",
        "# Using the same function to calculate areas of different shapes\n",
        "print_area(circle)\n",
        "print_area(rectangle)\n",
        "print_area(triangle)"
      ],
      "metadata": {
        "id": "o2EVwZbk7Blz",
        "colab": {
          "base_uri": "https://localhost:8080/"
        },
        "outputId": "a01f4a1e-2e0f-499f-d965-57c9b62782ab"
      },
      "execution_count": null,
      "outputs": [
        {
          "output_type": "stream",
          "name": "stdout",
          "text": [
            "Area: 78.53981633974483\n",
            "Area: 24\n",
            "Area: 7.5\n"
          ]
        }
      ]
    },
    {
      "cell_type": "markdown",
      "source": [
        " Q(10)Implement encapsulation in a `BankAccount` class with private attributes for `balance` and\n",
        "`account_number`. Include methods for deposit, withdrawal, and balance inquiry"
      ],
      "metadata": {
        "id": "wsBm_rMsFH1f"
      }
    },
    {
      "cell_type": "code",
      "source": [
        "#Ans:-\n",
        "class BankAccount:\n",
        "    def __init__(self, account_number, balance=0):\n",
        "        # Private attributes\n",
        "        self.__account_number = account_number\n",
        "        self.__balance = balance\n",
        "\n",
        "    # Public method for depositing money\n",
        "    def deposit(self, amount):\n",
        "        if amount > 0:\n",
        "            self.__balance += amount\n",
        "            print(f\"Deposited {amount}. New balance: {self.__balance}\")\n",
        "        else:\n",
        "            print(\"Deposit amount must be positive.\")\n",
        "\n",
        "    # Public method for withdrawing money\n",
        "    def withdraw(self, amount):\n",
        "        if amount > 0:\n",
        "            if amount <= self.__balance:\n",
        "                self.__balance -= amount\n",
        "                print(f\"Withdrew {amount}. New balance: {self.__balance}\")\n",
        "            else:\n",
        "                print(\"Insufficient funds.\")\n",
        "        else:\n",
        "            print(\"Withdrawal amount must be positive.\")\n",
        "\n",
        "    # Public method to check the balance\n",
        "    def get_balance(self):\n",
        "        return self.__balance\n",
        "\n",
        "    # Public method to get the account number (if needed)\n",
        "    def get_account_number(self):\n",
        "        return self.__account_number\n",
        "\n",
        "# Example of using the BankAccount class\n",
        "account = BankAccount(account_number=\"123456789\", balance=1000)\n",
        "\n",
        "# Deposit money\n",
        "account.deposit(500)\n",
        "\n",
        "# Withdraw money\n",
        "account.withdraw(200)\n",
        "\n",
        "# Check balance\n",
        "print(f\"Balance: {account.get_balance()}\")\n",
        "\n",
        "# Access account number (getter method)\n",
        "print(f\"Account Number: {account.get_account_number()}\")"
      ],
      "metadata": {
        "id": "h96x4RRw7B4_",
        "colab": {
          "base_uri": "https://localhost:8080/"
        },
        "outputId": "a864f62a-b627-4538-8bf4-f4208ecd4bec"
      },
      "execution_count": null,
      "outputs": [
        {
          "output_type": "stream",
          "name": "stdout",
          "text": [
            "Deposited 500. New balance: 1500\n",
            "Withdrew 200. New balance: 1300\n",
            "Balance: 1300\n",
            "Account Number: 123456789\n"
          ]
        }
      ]
    },
    {
      "cell_type": "markdown",
      "source": [
        "Q(11)Write a class that overrides the `__str__` and `__add__` magic methods. What will these methods allow\n",
        "you to do?"
      ],
      "metadata": {
        "id": "BcdGiHCiFZrt"
      }
    },
    {
      "cell_type": "code",
      "source": [
        "#Ans:-\n",
        "#a class that overides the __str__ and __add__ magic methods are\n",
        "class Point:\n",
        "    def __init__(self, x, y):\n",
        "        self.x = x\n",
        "        self.y = y\n",
        "\n",
        "    # Overriding the __str__ method to return a string representation of the object\n",
        "    def __str__(self):\n",
        "        return f\"Point({self.x}, {self.y})\"\n",
        "\n",
        "    # Overriding the __add__ method to define how two Point objects can be added\n",
        "    def __add__(self, other):\n",
        "        if isinstance(other, Point):\n",
        "            return Point(self.x + other.x, self.y + other.y)\n",
        "        else:\n",
        "            raise TypeError(\"Both operands must be of type 'Point'\")\n",
        "\n",
        "# Creating two Point objects\n",
        "point1 = Point(2, 3)\n",
        "point2 = Point(4, 5)\n",
        "\n",
        "# Using the overridden __str__ method\n",
        "print(point1)  # Output: Point(2, 3)\n",
        "\n",
        "# Using the overridden __add__ method\n",
        "point3 = point1 + point2  # Adds the two Point objects\n",
        "print(point3)  # Output: Point(6, 8)"
      ],
      "metadata": {
        "id": "sT0igDMD7B7p",
        "colab": {
          "base_uri": "https://localhost:8080/"
        },
        "outputId": "532f3017-61d5-47d4-8ea4-2de4eb972ef4"
      },
      "execution_count": null,
      "outputs": [
        {
          "output_type": "stream",
          "name": "stdout",
          "text": [
            "Point(2, 3)\n",
            "Point(6, 8)\n"
          ]
        }
      ]
    },
    {
      "cell_type": "code",
      "source": [
        "#In Python, the __str__ and __add__ magic methods are used to define custom\n",
        "#behavior for string representation and addition operations, respectively."
      ],
      "metadata": {
        "id": "6kebO5iK7CI7"
      },
      "execution_count": null,
      "outputs": []
    },
    {
      "cell_type": "markdown",
      "source": [
        "Q(12)Create a decorator that measures and prints the execution time of a function."
      ],
      "metadata": {
        "id": "brqKQ6lyGdhV"
      }
    },
    {
      "cell_type": "code",
      "source": [
        "#Ans:-\n",
        "import time\n",
        "\n",
        "# Decorator to measure execution time\n",
        "def measure_time(func):\n",
        "    def wrapper(*args, **kwargs):\n",
        "        start_time = time.time()  # Record start time\n",
        "        result = func(*args, **kwargs)  # Call the original function\n",
        "        end_time = time.time()  # Record end time\n",
        "        execution_time = end_time - start_time  # Calculate execution time\n",
        "        print(f\"Execution time of {func.__name__}: {execution_time:.4f} seconds\")\n",
        "        return result\n",
        "    return wrapper\n",
        "\n",
        "# Example function to demonstrate the decorator\n",
        "@measure_time\n",
        "def example_function():\n",
        "    time.sleep(2)  # Simulate a delay of 2 seconds\n",
        "    print(\"Function executed.\")\n",
        "\n",
        "# Calling the decorated function\n",
        "example_function()"
      ],
      "metadata": {
        "colab": {
          "base_uri": "https://localhost:8080/"
        },
        "id": "nul-n48KGczU",
        "outputId": "28b6db97-01b3-42b7-9b0e-2be800c9d1a2"
      },
      "execution_count": null,
      "outputs": [
        {
          "output_type": "stream",
          "name": "stdout",
          "text": [
            "Function executed.\n",
            "Execution time of example_function: 2.0031 seconds\n"
          ]
        }
      ]
    },
    {
      "cell_type": "markdown",
      "source": [
        "Q(13)Explain the concept of the Diamond Problem in multiple inheritance. How does Python resolve it?"
      ],
      "metadata": {
        "id": "Uix35FZHGyHU"
      }
    },
    {
      "cell_type": "code",
      "source": [
        "#Ans:-\n",
        "#The Diamond Problem is a complication that arises\n",
        "#in languages that support multiple inheritance, where a class inherits from two classes that have\n",
        "#a common ancestor. This situation can lead to ambiguity and confusion because the derived class might\n",
        "#inherit attributes or methods from the same ancestor class via different paths, creating a \"diamond-shaped\" inheritance hierarchy."
      ],
      "metadata": {
        "id": "sSZ1jU-n7CLe"
      },
      "execution_count": null,
      "outputs": []
    },
    {
      "cell_type": "code",
      "source": [
        "#How does python resolve\n",
        "class A:\n",
        "    def speak(self):\n",
        "        print(\"Speaking from class A\")\n",
        "\n",
        "class B(A):\n",
        "    def speak(self):\n",
        "        print(\"Speaking from class B\")\n",
        "\n",
        "class C(A):\n",
        "    def speak(self):\n",
        "        print(\"Speaking from class C\")\n",
        "\n",
        "class D(B, C):\n",
        "    pass\n",
        "\n",
        "# Create an instance of D\n",
        "d = D()\n",
        "d.speak()  # Which method will be called?"
      ],
      "metadata": {
        "id": "tIniOfnQ7Cw0",
        "colab": {
          "base_uri": "https://localhost:8080/"
        },
        "outputId": "c3db6082-51f0-4777-804b-ad83c4dfc0e1"
      },
      "execution_count": null,
      "outputs": [
        {
          "output_type": "stream",
          "name": "stdout",
          "text": [
            "Speaking from class B\n"
          ]
        }
      ]
    },
    {
      "cell_type": "markdown",
      "source": [
        "Q(14)Write a class method that keeps track of the number of instances created from a class."
      ],
      "metadata": {
        "id": "bjiBTgGEHy08"
      }
    },
    {
      "cell_type": "code",
      "source": [
        "#Ans:-\n",
        "class MyClass:\n",
        "    # Class variable to store the count of instances\n",
        "    instance_count = 0\n",
        "\n",
        "    def __init__(self):\n",
        "        # Increment the instance count each time an instance is created\n",
        "        MyClass.instance_count += 1\n",
        "\n",
        "    # Class method to access the instance count\n",
        "    @classmethod\n",
        "    def get_instance_count(cls):\n",
        "        return cls.instance_count\n",
        "\n",
        "# Creating instances of MyClass\n",
        "obj1 = MyClass()\n",
        "obj2 = MyClass()\n",
        "obj3 = MyClass()\n",
        "\n",
        "# Accessing the instance count using the class method\n",
        "print(MyClass.get_instance_count())  # Output: 3"
      ],
      "metadata": {
        "id": "vcx0_CwO7Cz2",
        "colab": {
          "base_uri": "https://localhost:8080/"
        },
        "outputId": "32119b74-f7e6-41e2-9376-e42391151e63"
      },
      "execution_count": null,
      "outputs": [
        {
          "output_type": "stream",
          "name": "stdout",
          "text": [
            "3\n"
          ]
        }
      ]
    },
    {
      "cell_type": "markdown",
      "source": [
        "Q(15)Implement a static method in a class that checks if a given year is a leap year."
      ],
      "metadata": {
        "id": "ShCAPSObILUX"
      }
    },
    {
      "cell_type": "code",
      "source": [
        "#Ans:-\n",
        "class Year:\n",
        "    @staticmethod\n",
        "    def is_leap_year(year):\n",
        "        # A year is a leap year if:\n",
        "        # It is divisible by 4, but not divisible by 100,\n",
        "        # unless it is also divisible by 400.\n",
        "        if (year % 4 == 0 and year % 100 != 0) or (year % 400 == 0):\n",
        "            return True\n",
        "        return False\n",
        "\n",
        "# Example usage:\n",
        "year = 2024\n",
        "if Year.is_leap_year(year):\n",
        "    print(f\"{year} is a leap year.\")\n",
        "else:\n",
        "    print(f\"{year} is not a leap year.\")\n",
        "\n",
        "# Checking for another year\n",
        "year = 1900\n",
        "if Year.is_leap_year(year):\n",
        "    print(f\"{year} is a leap year.\")\n",
        "else:\n",
        "    print(f\"{year} is not a leap year.\")"
      ],
      "metadata": {
        "id": "4P8ZPbIR7Dfq",
        "colab": {
          "base_uri": "https://localhost:8080/"
        },
        "outputId": "f266b2eb-3ba3-4357-c0bc-5443d770df98"
      },
      "execution_count": null,
      "outputs": [
        {
          "output_type": "stream",
          "name": "stdout",
          "text": [
            "2024 is a leap year.\n",
            "1900 is not a leap year.\n"
          ]
        }
      ]
    },
    {
      "cell_type": "code",
      "source": [],
      "metadata": {
        "id": "gugHT8su7D_q"
      },
      "execution_count": null,
      "outputs": []
    },
    {
      "cell_type": "code",
      "source": [],
      "metadata": {
        "id": "c0WTibcE7EPe"
      },
      "execution_count": null,
      "outputs": []
    },
    {
      "cell_type": "code",
      "source": [],
      "metadata": {
        "id": "TxgbZ2Pc7Ed2"
      },
      "execution_count": null,
      "outputs": []
    },
    {
      "cell_type": "code",
      "source": [],
      "metadata": {
        "id": "FKioN59B7Erd"
      },
      "execution_count": null,
      "outputs": []
    },
    {
      "cell_type": "code",
      "source": [],
      "metadata": {
        "id": "iOHbQzI-7E6-"
      },
      "execution_count": null,
      "outputs": []
    },
    {
      "cell_type": "code",
      "source": [],
      "metadata": {
        "id": "vHtRjTLO7FI0"
      },
      "execution_count": null,
      "outputs": []
    },
    {
      "cell_type": "code",
      "source": [],
      "metadata": {
        "id": "LbScLC-M7FXa"
      },
      "execution_count": null,
      "outputs": []
    },
    {
      "cell_type": "code",
      "source": [],
      "metadata": {
        "id": "FnQFMnky7Fma"
      },
      "execution_count": null,
      "outputs": []
    },
    {
      "cell_type": "code",
      "source": [],
      "metadata": {
        "id": "rpCa6GST7F07"
      },
      "execution_count": null,
      "outputs": []
    },
    {
      "cell_type": "code",
      "source": [],
      "metadata": {
        "id": "WIdeFiqh7GEq"
      },
      "execution_count": null,
      "outputs": []
    },
    {
      "cell_type": "code",
      "source": [],
      "metadata": {
        "id": "78awD8aC7GSe"
      },
      "execution_count": null,
      "outputs": []
    },
    {
      "cell_type": "code",
      "source": [],
      "metadata": {
        "id": "0lrtxhOu7AQL"
      },
      "execution_count": null,
      "outputs": []
    },
    {
      "cell_type": "code",
      "source": [],
      "metadata": {
        "id": "Fw342u5v7AUr"
      },
      "execution_count": null,
      "outputs": []
    },
    {
      "cell_type": "code",
      "source": [],
      "metadata": {
        "id": "qhSEnIDt7AXy"
      },
      "execution_count": null,
      "outputs": []
    }
  ]
}